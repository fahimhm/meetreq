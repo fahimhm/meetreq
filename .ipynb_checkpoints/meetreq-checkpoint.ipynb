{
 "cells": [
  {
   "cell_type": "code",
   "execution_count": 3,
   "metadata": {},
   "outputs": [
    {
     "data": {
      "text/html": [
       "<div>\n",
       "<style scoped>\n",
       "    .dataframe tbody tr th:only-of-type {\n",
       "        vertical-align: middle;\n",
       "    }\n",
       "\n",
       "    .dataframe tbody tr th {\n",
       "        vertical-align: top;\n",
       "    }\n",
       "\n",
       "    .dataframe thead th {\n",
       "        text-align: right;\n",
       "    }\n",
       "</style>\n",
       "<table border=\"1\" class=\"dataframe\">\n",
       "  <thead>\n",
       "    <tr style=\"text-align: right;\">\n",
       "      <th></th>\n",
       "      <th>training</th>\n",
       "      <th>trainer</th>\n",
       "      <th>waktu</th>\n",
       "      <th>peserta</th>\n",
       "      <th>dept</th>\n",
       "      <th>atasan</th>\n",
       "      <th>email_peserta</th>\n",
       "      <th>duration</th>\n",
       "      <th>email_meeting_room</th>\n",
       "      <th>email_trainer</th>\n",
       "      <th>email_optional</th>\n",
       "      <th>status_meetreq</th>\n",
       "    </tr>\n",
       "  </thead>\n",
       "  <tbody>\n",
       "    <tr>\n",
       "      <th>0</th>\n",
       "      <td>Basic WTP</td>\n",
       "      <td>Ridi Nur Ardiansyah</td>\n",
       "      <td>2019-08-28 14:00</td>\n",
       "      <td>Wildan Akbar Kombat Ginting</td>\n",
       "      <td>GEB</td>\n",
       "      <td>Sigit Aditya Kinardi</td>\n",
       "      <td>fahimhadimaula@gmail.com</td>\n",
       "      <td>120</td>\n",
       "      <td>rcollaborationcbt@nutrifood.co.id</td>\n",
       "      <td>kristal.prima@nutrifood.co.id</td>\n",
       "      <td>kristal.primbum.prima@gmail.com</td>\n",
       "      <td>NaN</td>\n",
       "    </tr>\n",
       "    <tr>\n",
       "      <th>1</th>\n",
       "      <td>Basic WTP</td>\n",
       "      <td>Ridi Nur Ardiansyah</td>\n",
       "      <td>2019-08-28 14:00</td>\n",
       "      <td>Naufal Farras Wahono</td>\n",
       "      <td>SSA</td>\n",
       "      <td>Priarso Sukaton</td>\n",
       "      <td>fahimhadimaula@gmail.com</td>\n",
       "      <td>120</td>\n",
       "      <td>rcollaborationcbt@nutrifood.co.id</td>\n",
       "      <td>kristal.prima@nutrifood.co.id</td>\n",
       "      <td>kristal.primbum.prima@gmail.com</td>\n",
       "      <td>NaN</td>\n",
       "    </tr>\n",
       "    <tr>\n",
       "      <th>2</th>\n",
       "      <td>Menemui Personalia Manager - Dewi Kristiani</td>\n",
       "      <td>Dewi Kristiani</td>\n",
       "      <td>2019-08-29 14:00</td>\n",
       "      <td>Ade santana</td>\n",
       "      <td>GLF</td>\n",
       "      <td>Hestiana / Fajrina + Penyelia</td>\n",
       "      <td>fahimhadimaula@gmail.com</td>\n",
       "      <td>120</td>\n",
       "      <td>rwdank@nutrifood.co.id</td>\n",
       "      <td>kristal.prima@nutrifood.co.id</td>\n",
       "      <td>kristal.primbum.prima@gmail.com</td>\n",
       "      <td>NaN</td>\n",
       "    </tr>\n",
       "    <tr>\n",
       "      <th>3</th>\n",
       "      <td>Menemui Personalia Manager - Dewi Kristiani</td>\n",
       "      <td>Dewi Kristiani</td>\n",
       "      <td>2019-08-29 14:00</td>\n",
       "      <td>Naufal Farras Wahono</td>\n",
       "      <td>SSA</td>\n",
       "      <td>Priarso Sukaton</td>\n",
       "      <td>fahimhadimaula@gmail.com</td>\n",
       "      <td>120</td>\n",
       "      <td>rwdank@nutrifood.co.id</td>\n",
       "      <td>kristal.prima@nutrifood.co.id</td>\n",
       "      <td>kristal.primbum.prima@gmail.com</td>\n",
       "      <td>NaN</td>\n",
       "    </tr>\n",
       "    <tr>\n",
       "      <th>4</th>\n",
       "      <td>Menemui Personalia Manager - Dewi Kristiani</td>\n",
       "      <td>Dewi Kristiani</td>\n",
       "      <td>2019-08-29 14:00</td>\n",
       "      <td>Agatha</td>\n",
       "      <td>GCA</td>\n",
       "      <td>Suhadi</td>\n",
       "      <td>fahimhadimaula@gmail.com</td>\n",
       "      <td>120</td>\n",
       "      <td>rwdank@nutrifood.co.id</td>\n",
       "      <td>kristal.prima@nutrifood.co.id</td>\n",
       "      <td>kristal.primbum.prima@gmail.com</td>\n",
       "      <td>NaN</td>\n",
       "    </tr>\n",
       "  </tbody>\n",
       "</table>\n",
       "</div>"
      ],
      "text/plain": [
       "                                      training              trainer  \\\n",
       "0                                    Basic WTP  Ridi Nur Ardiansyah   \n",
       "1                                    Basic WTP  Ridi Nur Ardiansyah   \n",
       "2  Menemui Personalia Manager - Dewi Kristiani       Dewi Kristiani   \n",
       "3  Menemui Personalia Manager - Dewi Kristiani       Dewi Kristiani   \n",
       "4  Menemui Personalia Manager - Dewi Kristiani       Dewi Kristiani   \n",
       "\n",
       "              waktu                      peserta dept  \\\n",
       "0  2019-08-28 14:00  Wildan Akbar Kombat Ginting  GEB   \n",
       "1  2019-08-28 14:00         Naufal Farras Wahono  SSA   \n",
       "2  2019-08-29 14:00                 Ade santana   GLF   \n",
       "3  2019-08-29 14:00         Naufal Farras Wahono  SSA   \n",
       "4  2019-08-29 14:00                       Agatha  GCA   \n",
       "\n",
       "                          atasan             email_peserta  duration  \\\n",
       "0           Sigit Aditya Kinardi  fahimhadimaula@gmail.com       120   \n",
       "1                Priarso Sukaton  fahimhadimaula@gmail.com       120   \n",
       "2  Hestiana / Fajrina + Penyelia  fahimhadimaula@gmail.com       120   \n",
       "3                Priarso Sukaton  fahimhadimaula@gmail.com       120   \n",
       "4                         Suhadi  fahimhadimaula@gmail.com       120   \n",
       "\n",
       "                  email_meeting_room                  email_trainer  \\\n",
       "0  rcollaborationcbt@nutrifood.co.id  kristal.prima@nutrifood.co.id   \n",
       "1  rcollaborationcbt@nutrifood.co.id  kristal.prima@nutrifood.co.id   \n",
       "2             rwdank@nutrifood.co.id  kristal.prima@nutrifood.co.id   \n",
       "3             rwdank@nutrifood.co.id  kristal.prima@nutrifood.co.id   \n",
       "4             rwdank@nutrifood.co.id  kristal.prima@nutrifood.co.id   \n",
       "\n",
       "                    email_optional  status_meetreq  \n",
       "0  kristal.primbum.prima@gmail.com             NaN  \n",
       "1  kristal.primbum.prima@gmail.com             NaN  \n",
       "2  kristal.primbum.prima@gmail.com             NaN  \n",
       "3  kristal.primbum.prima@gmail.com             NaN  \n",
       "4  kristal.primbum.prima@gmail.com             NaN  "
      ]
     },
     "execution_count": 3,
     "metadata": {},
     "output_type": "execute_result"
    }
   ],
   "source": [
    "import pandas as pd\n",
    "data = pd.read_csv(\"datasets/meetreq_training.csv\")\n",
    "data.head()"
   ]
  },
  {
   "cell_type": "code",
   "execution_count": 5,
   "metadata": {},
   "outputs": [
    {
     "data": {
      "text/plain": [
       "array(['Basic WTP', 'Menemui Personalia Manager - Dewi Kristiani',\n",
       "       'POK Basic Statistic & Seven Tools', 'Sistem Jaminan Mutu'],\n",
       "      dtype=object)"
      ]
     },
     "execution_count": 5,
     "metadata": {},
     "output_type": "execute_result"
    }
   ],
   "source": [
    "data['training'].unique()"
   ]
  },
  {
   "cell_type": "code",
   "execution_count": null,
   "metadata": {},
   "outputs": [],
   "source": []
  },
  {
   "cell_type": "code",
   "execution_count": 1,
   "metadata": {},
   "outputs": [],
   "source": [
    "import win32com.client as win32\n",
    "outlook = win32.Dispatch('outlook.application')\n",
    "mail = outlook.CreateItem(1)\n",
    "mail.Start = '2019-08-28 17:00'\n",
    "mail.Subject = 'Test subject'\n",
    "mail.Duration = 15\n",
    "mail.Location = 'Meeting Location'\n",
    "mail.MeetingStatus = 1\n",
    "mail.Recipients.Add(\"fahimhadimaula@gmail.com\")\n",
    "optAttendee = mail.Recipients.Add(\"kristal.prima@nutrifood.co.id\")\n",
    "optAttendee.Type = 2\n",
    "mail.Save()\n",
    "mail.Send()"
   ]
  },
  {
   "cell_type": "code",
   "execution_count": null,
   "metadata": {},
   "outputs": [],
   "source": []
  }
 ],
 "metadata": {
  "kernelspec": {
   "display_name": "Python 3",
   "language": "python",
   "name": "python3"
  },
  "language_info": {
   "codemirror_mode": {
    "name": "ipython",
    "version": 3
   },
   "file_extension": ".py",
   "mimetype": "text/x-python",
   "name": "python",
   "nbconvert_exporter": "python",
   "pygments_lexer": "ipython3",
   "version": "3.7.2"
  },
  "varInspector": {
   "cols": {
    "lenName": 16,
    "lenType": 16,
    "lenVar": 40
   },
   "kernels_config": {
    "python": {
     "delete_cmd_postfix": "",
     "delete_cmd_prefix": "del ",
     "library": "var_list.py",
     "varRefreshCmd": "print(var_dic_list())"
    },
    "r": {
     "delete_cmd_postfix": ") ",
     "delete_cmd_prefix": "rm(",
     "library": "var_list.r",
     "varRefreshCmd": "cat(var_dic_list()) "
    }
   },
   "types_to_exclude": [
    "module",
    "function",
    "builtin_function_or_method",
    "instance",
    "_Feature"
   ],
   "window_display": false
  }
 },
 "nbformat": 4,
 "nbformat_minor": 2
}
